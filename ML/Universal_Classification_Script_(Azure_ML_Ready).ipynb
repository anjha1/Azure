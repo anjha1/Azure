{
  "nbformat": 4,
  "nbformat_minor": 0,
  "metadata": {
    "colab": {
      "provenance": [],
      "authorship_tag": "ABX9TyMCePyiLhRzfP6qkfhfhWhg",
      "include_colab_link": true
    },
    "kernelspec": {
      "name": "python3",
      "display_name": "Python 3"
    },
    "language_info": {
      "name": "python"
    }
  },
  "cells": [
    {
      "cell_type": "markdown",
      "metadata": {
        "id": "view-in-github",
        "colab_type": "text"
      },
      "source": [
        "<a href=\"https://colab.research.google.com/github/anjha1/Azure/blob/main/ML/Universal_Classification_Script_(Azure_ML_Ready).ipynb\" target=\"_parent\"><img src=\"https://colab.research.google.com/assets/colab-badge.svg\" alt=\"Open In Colab\"/></a>"
      ]
    },
    {
      "cell_type": "markdown",
      "source": [
        "**Use After Data Cleaning**"
      ],
      "metadata": {
        "id": "YaUpU0czOZt6"
      }
    },
    {
      "cell_type": "code",
      "execution_count": null,
      "metadata": {
        "id": "2OS53jEWMAH0"
      },
      "outputs": [],
      "source": [
        "# File: universal_classifier.py\n",
        "\n",
        "from azureml.core import Run\n",
        "import pandas as pd\n",
        "import numpy as np\n",
        "import joblib\n",
        "import os\n",
        "import argparse\n",
        "from sklearn.model_selection import train_test_split\n",
        "from sklearn.linear_model import LogisticRegression\n",
        "from sklearn.metrics import roc_auc_score\n",
        "\n",
        "# Azure ML run context\n",
        "run = Run.get_context()\n",
        "\n",
        "# ----- 🔧 Argument Parsing -----\n",
        "parser = argparse.ArgumentParser()\n",
        "parser.add_argument('--reg_rate', type=float, dest='reg', default=0.01)\n",
        "args = parser.parse_args()\n",
        "reg = args.reg\n",
        "\n",
        "# ----- 📂 Load Data -----\n",
        "print(\"Loading Data...\")\n",
        "df = pd.read_csv('your_data.csv')  # 🟡 CHANGE: your dataset file name here\n",
        "\n",
        "# ----- ✂️ Feature & Target Selection -----\n",
        "# 🟡 CHANGE BELOW: feature columns and target column as per your dataset\n",
        "features = ['feature1', 'feature2', 'feature3']  # change as needed\n",
        "target = 'label_column'  # change to your target column name\n",
        "\n",
        "X = df[features].values\n",
        "y = df[target].values\n",
        "\n",
        "# ----- 🧪 Train/Test Split -----\n",
        "X_train, X_test, y_train, y_test = train_test_split(X, y, test_size=0.3, random_state=42)\n",
        "\n",
        "# ----- 🤖 Train Model -----\n",
        "print(f\"Training Logistic Regression model with reg rate: {reg}\")\n",
        "run.log(\"Regularization Rate\", np.float(reg))\n",
        "\n",
        "model = LogisticRegression(C=1/reg, solver='liblinear')\n",
        "model.fit(X_train, y_train)\n",
        "\n",
        "# ----- ✅ Accuracy -----\n",
        "y_pred = model.predict(X_test)\n",
        "acc = np.mean(y_pred == y_test)\n",
        "print(\"Accuracy:\", acc)\n",
        "run.log(\"Accuracy\", np.float(acc))\n",
        "\n",
        "# ----- 📈 AUC -----\n",
        "y_scores = model.predict_proba(X_test)\n",
        "auc = roc_auc_score(y_test, y_scores[:, 1])\n",
        "print(\"AUC:\", auc)\n",
        "run.log(\"AUC\", np.float(auc))\n",
        "\n",
        "# ----- 💾 Save Model -----\n",
        "os.makedirs('outputs', exist_ok=True)\n",
        "joblib.dump(model, 'outputs/classifier_model.pkl')\n",
        "\n",
        "run.complete()"
      ]
    },
    {
      "cell_type": "code",
      "source": [
        "from azureml.train.sklearn import SKLearn\n",
        "from azureml.core import Experiment\n",
        "\n",
        "estimator = SKLearn(\n",
        "    source_directory='classification-folder',\n",
        "    entry_script='universal_classifier.py',\n",
        "    script_params={'--reg_rate': 0.1},\n",
        "    compute_target='local'  # or cluster\n",
        ")\n",
        "\n",
        "experiment = Experiment(workspace=ws, name='universal-classifier-experiment')\n",
        "run = experiment.submit(estimator)\n",
        "run.wait_for_completion(show_output=True)\n"
      ],
      "metadata": {
        "id": "BhiKANz5MHOO"
      },
      "execution_count": null,
      "outputs": []
    },
    {
      "cell_type": "markdown",
      "source": [
        "# **example:-**"
      ],
      "metadata": {
        "id": "lpxWigmaNIW9"
      }
    },
    {
      "cell_type": "markdown",
      "source": [
        "✅ **1. Set up folder & copy dataset**"
      ],
      "metadata": {
        "id": "6Gekx9hqNou6"
      }
    },
    {
      "cell_type": "code",
      "source": [
        "import os, shutil\n",
        "\n",
        "training_folder = 'banknotes-training-params'\n",
        "os.makedirs(training_folder, exist_ok=True)\n",
        "\n",
        "# Copy dataset to training folder\n",
        "shutil.copy('data/banknotes-dataset.csv', os.path.join(training_folder, \"banknotes.csv\"))\n"
      ],
      "metadata": {
        "id": "h781QTFbNUvZ"
      },
      "execution_count": null,
      "outputs": []
    },
    {
      "cell_type": "markdown",
      "source": [
        "✅ **2. Training Script (banknotes_training.py)**"
      ],
      "metadata": {
        "id": "exe9cgFMNtSh"
      }
    },
    {
      "cell_type": "code",
      "source": [
        "%%writefile $training_folder/banknotes_training.py\n",
        "from azureml.core import Run\n",
        "import pandas as pd\n",
        "import numpy as np\n",
        "import joblib\n",
        "import os\n",
        "import argparse\n",
        "from sklearn.model_selection import train_test_split\n",
        "from sklearn.linear_model import LogisticRegression\n",
        "from sklearn.metrics import roc_auc_score\n",
        "\n",
        "# Get AzureML run context\n",
        "run = Run.get_context()\n",
        "\n",
        "# Set regularization hyperparameter from CLI arg\n",
        "parser = argparse.ArgumentParser()\n",
        "parser.add_argument('--reg_rate', type=float, dest='reg', default=0.01)\n",
        "args = parser.parse_args()\n",
        "reg = args.reg\n",
        "\n",
        "# Load dataset\n",
        "print(\"Loading Data...\")\n",
        "banknotes = pd.read_csv('banknotes.csv')\n",
        "\n",
        "# Separate features and labels\n",
        "X = banknotes[['var', 'skew', 'kurtosis', 'entropy']].values\n",
        "y = banknotes['fraudulent'].values\n",
        "\n",
        "# Split into training and test sets\n",
        "X_train, X_test, y_train, y_test = train_test_split(X, y, test_size=0.3, random_state=0)\n",
        "\n",
        "# Train logistic regression model\n",
        "print('Training Logistic Regression with reg_rate:', reg)\n",
        "run.log('Regularization Rate',  np.float(reg))\n",
        "model = LogisticRegression(C=1/reg, solver=\"liblinear\").fit(X_train, y_train)\n",
        "\n",
        "# Accuracy\n",
        "y_pred = model.predict(X_test)\n",
        "acc = np.average(y_pred == y_test)\n",
        "print('Accuracy:', acc)\n",
        "run.log('Accuracy', np.float(acc))\n",
        "\n",
        "# AUC\n",
        "y_scores = model.predict_proba(X_test)\n",
        "auc = roc_auc_score(y_test, y_scores[:,1])\n",
        "print('AUC:', auc)\n",
        "run.log('AUC', np.float(auc))\n",
        "\n",
        "# Save model\n",
        "os.makedirs('outputs', exist_ok=True)\n",
        "joblib.dump(value=model, filename='outputs/banknotes_model.pkl')\n",
        "\n",
        "run.complete()\n"
      ],
      "metadata": {
        "id": "Hb7tZMYNNZ3I"
      },
      "execution_count": null,
      "outputs": []
    },
    {
      "cell_type": "markdown",
      "source": [
        "✅ **3. Run Training Using SKLearn Estimator**"
      ],
      "metadata": {
        "id": "FZk86eGDNzN2"
      }
    },
    {
      "cell_type": "code",
      "source": [
        "from azureml.core import Experiment\n",
        "from azureml.train.sklearn import SKLearn\n",
        "from azureml.widgets import RunDetails\n",
        "\n",
        "# Define estimator\n",
        "estimator = SKLearn(source_directory=training_folder,\n",
        "                    entry_script='banknotes_training.py',\n",
        "                    script_params={'--reg_rate': 0.1},  # <- parameterized input\n",
        "                    compute_target='local')\n",
        "\n",
        "# Create experiment\n",
        "experiment_name = 'banknotes-training'\n",
        "experiment = Experiment(workspace=ws, name=experiment_name)\n",
        "\n",
        "# Submit run\n",
        "run = experiment.submit(config=estimator)\n",
        "RunDetails(run).show()\n",
        "run.wait_for_completion()\n"
      ],
      "metadata": {
        "id": "da1SR3PqNc6q"
      },
      "execution_count": null,
      "outputs": []
    },
    {
      "cell_type": "markdown",
      "source": [
        "✅ **4. Register Trained Model**"
      ],
      "metadata": {
        "id": "VG9prkViN4Ev"
      }
    },
    {
      "cell_type": "code",
      "source": [
        "from azureml.core import Model\n",
        "\n",
        "# Define model metrics to attach\n",
        "model_properties = {\n",
        "    'AUC': run.get_metrics()['AUC'],\n",
        "    'Accuracy': run.get_metrics()['Accuracy']\n",
        "}\n",
        "\n",
        "# Register model\n",
        "run.register_model(model_path='outputs/banknotes_model.pkl',\n",
        "                   model_name='banknotes_model',\n",
        "                   tags={'Training context':'Parameterized SKLearn Estimator'},\n",
        "                   properties=model_properties)\n",
        "\n",
        "# List all registered models\n",
        "for model in Model.list(ws):\n",
        "    print(model.name, 'version:', model.version)\n",
        "    for tag_name in model.tags:\n",
        "        print(f'\\t{tag_name}: {model.tags[tag_name]}')\n",
        "    for prop_name in model.properties:\n",
        "        print(f'\\t{prop_name}: {model.properties[prop_name]}')\n",
        "    print('\\n')\n"
      ],
      "metadata": {
        "id": "O_AY8psoNjW8"
      },
      "execution_count": null,
      "outputs": []
    }
  ]
}