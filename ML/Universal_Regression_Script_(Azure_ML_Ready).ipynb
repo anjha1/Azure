{
  "nbformat": 4,
  "nbformat_minor": 0,
  "metadata": {
    "colab": {
      "provenance": [],
      "authorship_tag": "ABX9TyN+0PINKDH4tOeGbpuKLRRO",
      "include_colab_link": true
    },
    "kernelspec": {
      "name": "python3",
      "display_name": "Python 3"
    },
    "language_info": {
      "name": "python"
    }
  },
  "cells": [
    {
      "cell_type": "markdown",
      "metadata": {
        "id": "view-in-github",
        "colab_type": "text"
      },
      "source": [
        "<a href=\"https://colab.research.google.com/github/anjha1/Azure/blob/main/ML/Universal_Regression_Script_(Azure_ML_Ready).ipynb\" target=\"_parent\"><img src=\"https://colab.research.google.com/assets/colab-badge.svg\" alt=\"Open In Colab\"/></a>"
      ]
    },
    {
      "cell_type": "markdown",
      "source": [
        "✅ **1. Set up folder & copy dataset**"
      ],
      "metadata": {
        "id": "mJ7osy--S3qg"
      }
    },
    {
      "cell_type": "code",
      "execution_count": null,
      "metadata": {
        "id": "J-hXczesSzaR"
      },
      "outputs": [],
      "source": [
        "import os, shutil\n",
        "\n",
        "training_folder = 'linearreg-training-params'\n",
        "os.makedirs(training_folder, exist_ok=True)\n",
        "\n",
        "# Copy dataset to training folder\n",
        "shutil.copy('data/your-dataset.csv', os.path.join(training_folder, \"regression.csv\"))\n"
      ]
    },
    {
      "cell_type": "markdown",
      "source": [
        "✅ **2. Training Script (linearreg_training.py)**"
      ],
      "metadata": {
        "id": "SrcJ3i82TAo1"
      }
    },
    {
      "cell_type": "code",
      "source": [
        "%%writefile $training_folder/linearreg_training.py\n",
        "from azureml.core import Run\n",
        "import pandas as pd\n",
        "import numpy as np\n",
        "import joblib\n",
        "import os\n",
        "import argparse\n",
        "from sklearn.model_selection import train_test_split\n",
        "from sklearn.linear_model import Ridge, Lasso\n",
        "from sklearn.metrics import mean_squared_error, r2_score\n",
        "\n",
        "run = Run.get_context()\n",
        "\n",
        "# Accept CLI parameters\n",
        "parser = argparse.ArgumentParser()\n",
        "parser.add_argument('--reg_rate', type=float, default=0.01)\n",
        "parser.add_argument('--reg_type', type=str, default='l2')  # 'l1' for Lasso, 'l2' for Ridge\n",
        "args = parser.parse_args()\n",
        "reg = args.reg_rate\n",
        "reg_type = args.reg_type\n",
        "\n",
        "# Load dataset (adjust filename & columns as needed)\n",
        "df = pd.read_csv('regression.csv')\n",
        "\n",
        "# HARD-CODED feature & target columns\n",
        "X = df[['feature1', 'feature2', 'feature3']].values\n",
        "y = df['target_column'].values\n",
        "\n",
        "# Split dataset\n",
        "X_train, X_test, y_train, y_test = train_test_split(X, y, test_size=0.2, random_state=42)\n",
        "\n",
        "# Choose model\n",
        "if reg_type == 'l1':\n",
        "    model = Lasso(alpha=reg)\n",
        "    run.log(\"Regularization Type\", \"L1 (Lasso)\")\n",
        "else:\n",
        "    model = Ridge(alpha=reg)\n",
        "    run.log(\"Regularization Type\", \"L2 (Ridge)\")\n",
        "\n",
        "# Train\n",
        "run.log(\"Regularization Rate\", np.float(reg))\n",
        "model.fit(X_train, y_train)\n",
        "\n",
        "# Evaluate\n",
        "y_pred = model.predict(X_test)\n",
        "mse = mean_squared_error(y_test, y_pred)\n",
        "r2 = r2_score(y_test, y_pred)\n",
        "\n",
        "print(\"MSE:\", mse)\n",
        "print(\"R2 Score:\", r2)\n",
        "\n",
        "run.log(\"MSE\", np.float(mse))\n",
        "run.log(\"R2_Score\", np.float(r2))\n",
        "\n",
        "# Save model\n",
        "os.makedirs('outputs', exist_ok=True)\n",
        "joblib.dump(model, 'outputs/linear_model.pkl')\n",
        "\n",
        "run.complete()\n"
      ],
      "metadata": {
        "id": "z7XIzp5cS-TR"
      },
      "execution_count": null,
      "outputs": []
    },
    {
      "cell_type": "markdown",
      "source": [
        "✅ **3. Run Training Using SKLearn Estimator**"
      ],
      "metadata": {
        "id": "U9zIevkwTG8k"
      }
    },
    {
      "cell_type": "code",
      "source": [
        "from azureml.core import Experiment\n",
        "from azureml.train.sklearn import SKLearn\n",
        "from azureml.widgets import RunDetails\n",
        "\n",
        "# Define estimator\n",
        "estimator = SKLearn(\n",
        "    source_directory=training_folder,\n",
        "    entry_script='linearreg_training.py',\n",
        "    script_params={\n",
        "        '--reg_rate': 0.1,\n",
        "        '--reg_type': 'l1'  # or 'l2'\n",
        "    },\n",
        "    compute_target='local'\n",
        ")\n",
        "\n",
        "experiment = Experiment(workspace=ws, name='linearreg-training')\n",
        "run = experiment.submit(config=estimator)\n",
        "RunDetails(run).show()\n",
        "run.wait_for_completion()\n"
      ],
      "metadata": {
        "id": "KLBjZ70NTIoU"
      },
      "execution_count": null,
      "outputs": []
    },
    {
      "cell_type": "markdown",
      "source": [
        "✅ **4. Register the Trained Model**"
      ],
      "metadata": {
        "id": "MV9JK7lyTLBe"
      }
    },
    {
      "cell_type": "code",
      "source": [
        "from azureml.core import Model\n",
        "\n",
        "# Model metrics\n",
        "model_props = {\n",
        "    'MSE': run.get_metrics()['MSE'],\n",
        "    'R2_Score': run.get_metrics()['R2_Score']\n",
        "}\n",
        "\n",
        "# Register model\n",
        "run.register_model(\n",
        "    model_path='outputs/linear_model.pkl',\n",
        "    model_name='linear_regression_model',\n",
        "    tags={'Framework': 'SKLearn', 'Type': 'L1' if estimator.script_params['--reg_type'] == 'l1' else 'L2'},\n",
        "    properties=model_props\n",
        ")\n",
        "\n",
        "# Print registered models\n",
        "for model in Model.list(ws):\n",
        "    print(model.name, 'version:', model.version)\n",
        "    for tag in model.tags:\n",
        "        print(f'\\t{tag}: {model.tags[tag]}')\n",
        "    for prop in model.properties:\n",
        "        print(f'\\t{prop}: {model.properties[prop]}')\n",
        "    print()\n"
      ],
      "metadata": {
        "id": "t9Mg44j2TTBG"
      },
      "execution_count": null,
      "outputs": []
    }
  ]
}