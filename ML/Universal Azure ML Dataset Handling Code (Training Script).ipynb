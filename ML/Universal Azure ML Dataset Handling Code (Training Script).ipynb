{
  "nbformat": 4,
  "nbformat_minor": 0,
  "metadata": {
    "colab": {
      "provenance": [],
      "authorship_tag": "ABX9TyN1ZzOT9xjM43QsUTzVSdb9",
      "include_colab_link": true
    },
    "kernelspec": {
      "name": "python3",
      "display_name": "Python 3"
    },
    "language_info": {
      "name": "python"
    }
  },
  "cells": [
    {
      "cell_type": "markdown",
      "metadata": {
        "id": "view-in-github",
        "colab_type": "text"
      },
      "source": [
        "<a href=\"https://colab.research.google.com/github/anjha1/Azure/blob/main/ML/Universal%20Azure%20ML%20Dataset%20Handling%20Code%20(Training%20Script).ipynb\" target=\"_parent\"><img src=\"https://colab.research.google.com/assets/colab-badge.svg\" alt=\"Open In Colab\"/></a>"
      ]
    },
    {
      "cell_type": "code",
      "execution_count": null,
      "metadata": {
        "id": "GNZ3GoxRlTmM"
      },
      "outputs": [],
      "source": [
        "# banknotes_training.py\n",
        "\n",
        "import os\n",
        "import argparse\n",
        "import pandas as pd\n",
        "import numpy as np\n",
        "import joblib\n",
        "import glob\n",
        "from sklearn.model_selection import train_test_split\n",
        "from sklearn.linear_model import LogisticRegression\n",
        "from sklearn.metrics import roc_auc_score\n",
        "from azureml.core import Run\n",
        "\n",
        "# Argument parsing\n",
        "parser = argparse.ArgumentParser()\n",
        "parser.add_argument('--regularization', type=float, dest='reg_rate', default=0.01, help='Regularization rate')\n",
        "parser.add_argument('--dataset-type', type=str, dest='ds_type', default='tabular', help='tabular or file')\n",
        "parser.add_argument('--dataset-name', type=str, dest='ds_name', default='banknotes', help='Dataset input name')\n",
        "args = parser.parse_args()\n",
        "\n",
        "reg = args.reg_rate\n",
        "ds_type = args.ds_type\n",
        "ds_name = args.ds_name\n",
        "\n",
        "run = Run.get_context()\n",
        "print(\"Dataset type:\", ds_type)\n",
        "\n",
        "# Load data\n",
        "if ds_type == 'tabular':\n",
        "    print(\"Loading tabular dataset...\")\n",
        "    banknotes = run.input_datasets[ds_name].to_pandas_dataframe()\n",
        "\n",
        "elif ds_type == 'file':\n",
        "    print(\"Loading file dataset...\")\n",
        "    data_path = run.input_datasets[ds_name]\n",
        "    data_folder = data_path.download() if hasattr(data_path, 'download') else str(data_path)\n",
        "    csv_files = glob.glob(os.path.join(data_folder, '*.csv'))\n",
        "    banknotes = pd.concat(pd.read_csv(f) for f in csv_files)\n",
        "\n",
        "else:\n",
        "    raise ValueError(\"Unsupported dataset type. Use 'tabular' or 'file'.\")\n",
        "\n",
        "# Split data\n",
        "X = banknotes[['var', 'skew', 'kurtosis', 'entropy']].values\n",
        "y = banknotes['fraudulent'].values\n",
        "X_train, X_test, y_train, y_test = train_test_split(X, y, test_size=0.3, random_state=42)\n",
        "\n",
        "# Train model\n",
        "print(\"Training model...\")\n",
        "model = LogisticRegression(C=1/reg, solver='liblinear').fit(X_train, y_train)\n",
        "run.log('Regularization Rate', reg)\n",
        "\n",
        "# Evaluate\n",
        "y_pred = model.predict(X_test)\n",
        "accuracy = np.average(y_pred == y_test)\n",
        "auc = roc_auc_score(y_test, model.predict_proba(X_test)[:, 1])\n",
        "run.log('Accuracy', accuracy)\n",
        "run.log('AUC', auc)\n",
        "\n",
        "print(f'Accuracy: {accuracy:.3f}, AUC: {auc:.3f}')\n",
        "\n",
        "# Save model\n",
        "os.makedirs('outputs', exist_ok=True)\n",
        "joblib.dump(model, 'outputs/banknotes_model.pkl')\n",
        "run.complete()\n"
      ]
    },
    {
      "cell_type": "markdown",
      "source": [
        "🧪 How to Use in Your Estimator"
      ],
      "metadata": {
        "id": "SptFKSPSlXAG"
      }
    },
    {
      "cell_type": "code",
      "source": [
        "script_params = {\n",
        "    '--regularization': 0.1,\n",
        "    '--dataset-type': 'tabular',  # or 'file'\n",
        "    '--dataset-name': 'banknotes'\n",
        "}\n",
        "\n",
        "estimator = SKLearn(\n",
        "    source_directory=experiment_folder,\n",
        "    entry_script='banknotes_training.py',\n",
        "    script_params=script_params,\n",
        "    compute_target='local',\n",
        "    inputs=[dataset.as_named_input('banknotes')],\n",
        "    pip_packages=['azureml-dataprep[pandas]']\n",
        ")\n"
      ],
      "metadata": {
        "id": "yK9g2GHClUn-"
      },
      "execution_count": null,
      "outputs": []
    }
  ]
}